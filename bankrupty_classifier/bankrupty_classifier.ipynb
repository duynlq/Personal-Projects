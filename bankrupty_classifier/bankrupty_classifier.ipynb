{
  "cells": [
    {
      "cell_type": "code",
      "execution_count": 1,
      "metadata": {
        "id": "BmXiN4OJC_Ys"
      },
      "outputs": [],
      "source": [
        "import pandas as pd\n",
        "import numpy as np\n",
        "from scipy.io import arff\n",
        "from sklearn.model_selection import train_test_split\n",
        "from sklearn.impute import SimpleImputer\n",
        "from sklearn.preprocessing import RobustScaler\n",
        "from imblearn.combine import SMOTEENN, SMOTETomek\n",
        "from sklearn.ensemble import RandomForestClassifier\n",
        "from sklearn.model_selection import cross_val_score, StratifiedKFold, RepeatedStratifiedKFold\n",
        "from sklearn.metrics import confusion_matrix\n",
        "from scipy.stats import randint as sp_randint\n",
        "from sklearn.model_selection import RandomizedSearchCV\n",
        "from sklearn.ensemble import RandomForestClassifier\n",
        "import xgboost as xgb\n",
        "from xgboost import XGBClassifier\n",
        "\n",
        "# Ignore Warnings\n",
        "import warnings\n",
        "warnings.filterwarnings('ignore')"
      ]
    },
    {
      "cell_type": "code",
      "execution_count": 2,
      "metadata": {
        "id": "7O24Yq8MgsNm"
      },
      "outputs": [],
      "source": [
        "files = [\n",
        "    '1year.arff',\n",
        "    '2year.arff',\n",
        "    '3year.arff',\n",
        "    '4year.arff',\n",
        "    '5year.arff'\n",
        "    ]\n",
        "\n",
        "df = pd.DataFrame(arff.loadarff(files[0])[0])\n",
        "\n",
        "for f in files:\n",
        "    data_temp = arff.loadarff(f)\n",
        "    df_temp = pd.DataFrame(data_temp[0])\n",
        "    df = df.merge(df_temp, how='outer')"
      ]
    },
    {
      "cell_type": "code",
      "execution_count": 3,
      "metadata": {
        "colab": {
          "base_uri": "https://localhost:8080/",
          "height": 317
        },
        "id": "OiLbx8vSb8Ie",
        "outputId": "ce84c9bf-216b-4807-a810-167f380fb79b"
      },
      "outputs": [
        {
          "name": "stdout",
          "output_type": "stream",
          "text": [
            "43569\n"
          ]
        },
        {
          "data": {
            "text/html": [
              "<div>\n",
              "<style scoped>\n",
              "    .dataframe tbody tr th:only-of-type {\n",
              "        vertical-align: middle;\n",
              "    }\n",
              "\n",
              "    .dataframe tbody tr th {\n",
              "        vertical-align: top;\n",
              "    }\n",
              "\n",
              "    .dataframe thead th {\n",
              "        text-align: right;\n",
              "    }\n",
              "</style>\n",
              "<table border=\"1\" class=\"dataframe\">\n",
              "  <thead>\n",
              "    <tr style=\"text-align: right;\">\n",
              "      <th></th>\n",
              "      <th>Attr1</th>\n",
              "      <th>Attr2</th>\n",
              "      <th>Attr3</th>\n",
              "      <th>Attr4</th>\n",
              "      <th>Attr5</th>\n",
              "      <th>Attr6</th>\n",
              "      <th>Attr7</th>\n",
              "      <th>Attr8</th>\n",
              "      <th>Attr9</th>\n",
              "      <th>Attr10</th>\n",
              "      <th>...</th>\n",
              "      <th>Attr56</th>\n",
              "      <th>Attr57</th>\n",
              "      <th>Attr58</th>\n",
              "      <th>Attr59</th>\n",
              "      <th>Attr60</th>\n",
              "      <th>Attr61</th>\n",
              "      <th>Attr62</th>\n",
              "      <th>Attr63</th>\n",
              "      <th>Attr64</th>\n",
              "      <th>class</th>\n",
              "    </tr>\n",
              "  </thead>\n",
              "  <tbody>\n",
              "    <tr>\n",
              "      <th>0</th>\n",
              "      <td>0.200550</td>\n",
              "      <td>0.37951</td>\n",
              "      <td>0.39641</td>\n",
              "      <td>2.0472</td>\n",
              "      <td>32.3510</td>\n",
              "      <td>0.38825</td>\n",
              "      <td>0.249760</td>\n",
              "      <td>1.33050</td>\n",
              "      <td>1.1389</td>\n",
              "      <td>0.50494</td>\n",
              "      <td>...</td>\n",
              "      <td>0.121960</td>\n",
              "      <td>0.39718</td>\n",
              "      <td>0.87804</td>\n",
              "      <td>0.001924</td>\n",
              "      <td>8.4160</td>\n",
              "      <td>5.1372</td>\n",
              "      <td>82.658</td>\n",
              "      <td>4.4158</td>\n",
              "      <td>7.4277</td>\n",
              "      <td>b'0'</td>\n",
              "    </tr>\n",
              "    <tr>\n",
              "      <th>1</th>\n",
              "      <td>0.209120</td>\n",
              "      <td>0.49988</td>\n",
              "      <td>0.47225</td>\n",
              "      <td>1.9447</td>\n",
              "      <td>14.7860</td>\n",
              "      <td>0.00000</td>\n",
              "      <td>0.258340</td>\n",
              "      <td>0.99601</td>\n",
              "      <td>1.6996</td>\n",
              "      <td>0.49788</td>\n",
              "      <td>...</td>\n",
              "      <td>0.121300</td>\n",
              "      <td>0.42002</td>\n",
              "      <td>0.85300</td>\n",
              "      <td>0.000000</td>\n",
              "      <td>4.1486</td>\n",
              "      <td>3.2732</td>\n",
              "      <td>107.350</td>\n",
              "      <td>3.4000</td>\n",
              "      <td>60.9870</td>\n",
              "      <td>b'0'</td>\n",
              "    </tr>\n",
              "    <tr>\n",
              "      <th>2</th>\n",
              "      <td>0.248660</td>\n",
              "      <td>0.69592</td>\n",
              "      <td>0.26713</td>\n",
              "      <td>1.5548</td>\n",
              "      <td>-1.1523</td>\n",
              "      <td>0.00000</td>\n",
              "      <td>0.309060</td>\n",
              "      <td>0.43695</td>\n",
              "      <td>1.3090</td>\n",
              "      <td>0.30408</td>\n",
              "      <td>...</td>\n",
              "      <td>0.241140</td>\n",
              "      <td>0.81774</td>\n",
              "      <td>0.76599</td>\n",
              "      <td>0.694840</td>\n",
              "      <td>4.9909</td>\n",
              "      <td>3.9510</td>\n",
              "      <td>134.270</td>\n",
              "      <td>2.7185</td>\n",
              "      <td>5.2078</td>\n",
              "      <td>b'0'</td>\n",
              "    </tr>\n",
              "    <tr>\n",
              "      <th>3</th>\n",
              "      <td>0.081483</td>\n",
              "      <td>0.30734</td>\n",
              "      <td>0.45879</td>\n",
              "      <td>2.4928</td>\n",
              "      <td>51.9520</td>\n",
              "      <td>0.14988</td>\n",
              "      <td>0.092704</td>\n",
              "      <td>1.86610</td>\n",
              "      <td>1.0571</td>\n",
              "      <td>0.57353</td>\n",
              "      <td>...</td>\n",
              "      <td>0.054015</td>\n",
              "      <td>0.14207</td>\n",
              "      <td>0.94598</td>\n",
              "      <td>0.000000</td>\n",
              "      <td>4.5746</td>\n",
              "      <td>3.6147</td>\n",
              "      <td>86.435</td>\n",
              "      <td>4.2228</td>\n",
              "      <td>5.5497</td>\n",
              "      <td>b'0'</td>\n",
              "    </tr>\n",
              "    <tr>\n",
              "      <th>4</th>\n",
              "      <td>0.187320</td>\n",
              "      <td>0.61323</td>\n",
              "      <td>0.22960</td>\n",
              "      <td>1.4063</td>\n",
              "      <td>-7.3128</td>\n",
              "      <td>0.18732</td>\n",
              "      <td>0.187320</td>\n",
              "      <td>0.63070</td>\n",
              "      <td>1.1559</td>\n",
              "      <td>0.38677</td>\n",
              "      <td>...</td>\n",
              "      <td>0.134850</td>\n",
              "      <td>0.48431</td>\n",
              "      <td>0.86515</td>\n",
              "      <td>0.124440</td>\n",
              "      <td>6.3985</td>\n",
              "      <td>4.3158</td>\n",
              "      <td>127.210</td>\n",
              "      <td>2.8692</td>\n",
              "      <td>7.8980</td>\n",
              "      <td>b'0'</td>\n",
              "    </tr>\n",
              "  </tbody>\n",
              "</table>\n",
              "<p>5 rows × 65 columns</p>\n",
              "</div>"
            ],
            "text/plain": [
              "      Attr1    Attr2    Attr3   Attr4    Attr5    Attr6     Attr7    Attr8  \\\n",
              "0  0.200550  0.37951  0.39641  2.0472  32.3510  0.38825  0.249760  1.33050   \n",
              "1  0.209120  0.49988  0.47225  1.9447  14.7860  0.00000  0.258340  0.99601   \n",
              "2  0.248660  0.69592  0.26713  1.5548  -1.1523  0.00000  0.309060  0.43695   \n",
              "3  0.081483  0.30734  0.45879  2.4928  51.9520  0.14988  0.092704  1.86610   \n",
              "4  0.187320  0.61323  0.22960  1.4063  -7.3128  0.18732  0.187320  0.63070   \n",
              "\n",
              "    Attr9   Attr10  ...    Attr56   Attr57   Attr58    Attr59  Attr60  Attr61  \\\n",
              "0  1.1389  0.50494  ...  0.121960  0.39718  0.87804  0.001924  8.4160  5.1372   \n",
              "1  1.6996  0.49788  ...  0.121300  0.42002  0.85300  0.000000  4.1486  3.2732   \n",
              "2  1.3090  0.30408  ...  0.241140  0.81774  0.76599  0.694840  4.9909  3.9510   \n",
              "3  1.0571  0.57353  ...  0.054015  0.14207  0.94598  0.000000  4.5746  3.6147   \n",
              "4  1.1559  0.38677  ...  0.134850  0.48431  0.86515  0.124440  6.3985  4.3158   \n",
              "\n",
              "    Attr62  Attr63   Attr64  class  \n",
              "0   82.658  4.4158   7.4277   b'0'  \n",
              "1  107.350  3.4000  60.9870   b'0'  \n",
              "2  134.270  2.7185   5.2078   b'0'  \n",
              "3   86.435  4.2228   5.5497   b'0'  \n",
              "4  127.210  2.8692   7.8980   b'0'  \n",
              "\n",
              "[5 rows x 65 columns]"
            ]
          },
          "execution_count": 3,
          "metadata": {},
          "output_type": "execute_result"
        }
      ],
      "source": [
        "print(len(df))\n",
        "df.head(5)"
      ]
    },
    {
      "cell_type": "markdown",
      "metadata": {
        "id": "ghIaXE5pcLRy"
      },
      "source": [
        "# Preprocessing\n",
        "Look for things like ? instead of NaN, response variable has weird formatting, etc.... This part need not be reported but nice to document for gaining experience. (Add more examples here when they come up)"
      ]
    },
    {
      "cell_type": "code",
      "execution_count": 4,
      "metadata": {
        "id": "Z6FI1KyBcDIB"
      },
      "outputs": [],
      "source": [
        "# Fixing response variable\n",
        "df['class'] = df['class'].replace([b'0', b'1'], [0, 1])"
      ]
    },
    {
      "cell_type": "markdown",
      "metadata": {
        "id": "PAjJaZb_DYCn"
      },
      "source": [
        "# Processing\n",
        "To simulate data science IRL, the test set need to be clean of all wrangling (imputes, normalize, resampling, etc...) and must be left alone until the validation stage (cross_val_score). The common ratio of 80:20 will be used here."
      ]
    },
    {
      "cell_type": "code",
      "execution_count": 5,
      "metadata": {
        "id": "CDYjo5OYcepx"
      },
      "outputs": [],
      "source": [
        "X = df.loc[:, df.columns != 'class'].values\n",
        "y = df['class'].values\n",
        "X_train, X_test, y_train, y_test = train_test_split(\n",
        "    X, y, test_size=0.2, random_state=42)"
      ]
    },
    {
      "cell_type": "code",
      "execution_count": 6,
      "metadata": {
        "colab": {
          "base_uri": "https://localhost:8080/"
        },
        "id": "N80BVnZISX8i",
        "outputId": "ad3f2c89-4bde-404a-c66f-b28864dd73a5"
      },
      "outputs": [
        {
          "name": "stdout",
          "output_type": "stream",
          "text": [
            "Control:    Counter({0: 33180, 1: 1675})\n"
          ]
        }
      ],
      "source": [
        "# Fixing response variable\n",
        "df['class'] = df['class'].replace([b'0', b'1'], [0, 1])\n",
        "\n",
        "# Impute\n",
        "X_train = SimpleImputer(strategy=\"median\").fit_transform(X_train)\n",
        "X_test = SimpleImputer(strategy=\"median\").fit_transform(X_test)\n",
        "\n",
        "# Normalize the data\n",
        "X_train = RobustScaler().fit_transform(X_train)\n",
        "X_test = RobustScaler().fit_transform(X_test)\n",
        "\n",
        "# Observe class distribution\n",
        "from collections import Counter\n",
        "print(\"Control:   \", Counter(y_train))"
      ]
    },
    {
      "cell_type": "markdown",
      "metadata": {
        "id": "ZRRZKSjYDami"
      },
      "source": [
        "# Random Forest\n",
        "(SKIP THIS) Set Initial RandomizedSearchCV "
      ]
    },
    {
      "cell_type": "code",
      "execution_count": 7,
      "metadata": {
        "id": "-TzcJy30-IzS"
      },
      "outputs": [],
      "source": [
        "# build a classifier\n",
        "clf = RandomForestClassifier()\n",
        "\n",
        "# define cv splitting strategy\n",
        "# courtesy of Jason Brownlee \n",
        "# https://machinelearningmastery.com/hyperparameter-optimization-with-random-search-and-grid-search/\n",
        "cv = RepeatedStratifiedKFold(n_splits=10, n_repeats=3, random_state=42)\n",
        "\n",
        "# specify parameters and distributions to sample from\n",
        "param_dist = {\"n_estimators\": [1, 2, 3, 4, 5, 7, 10, 12, 13, 14, 15, 17, 20],\n",
        "              \"criterion\": [\"gini\", \"entropy\", \"log_loss\"],\n",
        "              \"max_depth\": [3, 5, 7, None],\n",
        "              \"min_samples_split\": sp_randint(2, 11),\n",
        "              \"min_samples_leaf\": sp_randint(1, 5),\n",
        "              \"max_features\": sp_randint(1, 11),\n",
        "              \"bootstrap\": [True, False],\n",
        "              'class_weight': [\"balanced\", \"balanced_subsample\"]\n",
        "              }\n",
        "\n",
        "# run randomized search\n",
        "n_iter_search = 50\n",
        "\n",
        "# after n iterations, probability of none of best p  \n",
        "random_search = RandomizedSearchCV(RandomForestClassifier(), \n",
        "                                   param_distributions=param_dist,\n",
        "                                   cv=cv,\n",
        "                                   n_iter=n_iter_search,\n",
        "                                   scoring='roc_auc')"
      ]
    },
    {
      "cell_type": "markdown",
      "metadata": {
        "id": "aiqA7B3H_oDH"
      },
      "source": [
        "(SKIP THIS) Perform CV "
      ]
    },
    {
      "cell_type": "code",
      "execution_count": null,
      "metadata": {
        "colab": {
          "base_uri": "https://localhost:8080/"
        },
        "id": "BYGQFx7x_1qb",
        "outputId": "fe18ccfb-023d-4032-8dd0-2be102b336f5"
      },
      "outputs": [
        {
          "name": "stdout",
          "output_type": "stream",
          "text": [
            "Best AUC: 0.9121211656525634\n",
            "Best Hyperparameters: \n",
            "{'bootstrap': True, 'class_weight': 'balanced', 'criterion': 'gini', 'max_depth': None, 'max_features': 10, 'min_samples_leaf': 2, 'min_samples_split': 5, 'n_estimators': 20}\n"
          ]
        }
      ],
      "source": [
        "result = random_search.fit(X_train, y_train)\n",
        "print('Best AUC: %s' % result.best_score_)\n",
        "print('Best Hyperparameters: \\n%s' % result.best_params_)"
      ]
    },
    {
      "cell_type": "markdown",
      "metadata": {
        "id": "TDi6Gly--ga6"
      },
      "source": [
        "(START HERE) Fit optimal parameters for each resampling method accordingly "
      ]
    },
    {
      "cell_type": "code",
      "execution_count": 8,
      "metadata": {
        "colab": {
          "base_uri": "https://localhost:8080/"
        },
        "id": "EtdQL_jJDTLE",
        "outputId": "2aea6fd3-8d72-491d-c39a-bd815f1a7977"
      },
      "outputs": [
        {
          "data": {
            "text/html": [
              "<style>#sk-container-id-1 {color: black;background-color: white;}#sk-container-id-1 pre{padding: 0;}#sk-container-id-1 div.sk-toggleable {background-color: white;}#sk-container-id-1 label.sk-toggleable__label {cursor: pointer;display: block;width: 100%;margin-bottom: 0;padding: 0.3em;box-sizing: border-box;text-align: center;}#sk-container-id-1 label.sk-toggleable__label-arrow:before {content: \"▸\";float: left;margin-right: 0.25em;color: #696969;}#sk-container-id-1 label.sk-toggleable__label-arrow:hover:before {color: black;}#sk-container-id-1 div.sk-estimator:hover label.sk-toggleable__label-arrow:before {color: black;}#sk-container-id-1 div.sk-toggleable__content {max-height: 0;max-width: 0;overflow: hidden;text-align: left;background-color: #f0f8ff;}#sk-container-id-1 div.sk-toggleable__content pre {margin: 0.2em;color: black;border-radius: 0.25em;background-color: #f0f8ff;}#sk-container-id-1 input.sk-toggleable__control:checked~div.sk-toggleable__content {max-height: 200px;max-width: 100%;overflow: auto;}#sk-container-id-1 input.sk-toggleable__control:checked~label.sk-toggleable__label-arrow:before {content: \"▾\";}#sk-container-id-1 div.sk-estimator input.sk-toggleable__control:checked~label.sk-toggleable__label {background-color: #d4ebff;}#sk-container-id-1 div.sk-label input.sk-toggleable__control:checked~label.sk-toggleable__label {background-color: #d4ebff;}#sk-container-id-1 input.sk-hidden--visually {border: 0;clip: rect(1px 1px 1px 1px);clip: rect(1px, 1px, 1px, 1px);height: 1px;margin: -1px;overflow: hidden;padding: 0;position: absolute;width: 1px;}#sk-container-id-1 div.sk-estimator {font-family: monospace;background-color: #f0f8ff;border: 1px dotted black;border-radius: 0.25em;box-sizing: border-box;margin-bottom: 0.5em;}#sk-container-id-1 div.sk-estimator:hover {background-color: #d4ebff;}#sk-container-id-1 div.sk-parallel-item::after {content: \"\";width: 100%;border-bottom: 1px solid gray;flex-grow: 1;}#sk-container-id-1 div.sk-label:hover label.sk-toggleable__label {background-color: #d4ebff;}#sk-container-id-1 div.sk-serial::before {content: \"\";position: absolute;border-left: 1px solid gray;box-sizing: border-box;top: 0;bottom: 0;left: 50%;z-index: 0;}#sk-container-id-1 div.sk-serial {display: flex;flex-direction: column;align-items: center;background-color: white;padding-right: 0.2em;padding-left: 0.2em;position: relative;}#sk-container-id-1 div.sk-item {position: relative;z-index: 1;}#sk-container-id-1 div.sk-parallel {display: flex;align-items: stretch;justify-content: center;background-color: white;position: relative;}#sk-container-id-1 div.sk-item::before, #sk-container-id-1 div.sk-parallel-item::before {content: \"\";position: absolute;border-left: 1px solid gray;box-sizing: border-box;top: 0;bottom: 0;left: 50%;z-index: -1;}#sk-container-id-1 div.sk-parallel-item {display: flex;flex-direction: column;z-index: 1;position: relative;background-color: white;}#sk-container-id-1 div.sk-parallel-item:first-child::after {align-self: flex-end;width: 50%;}#sk-container-id-1 div.sk-parallel-item:last-child::after {align-self: flex-start;width: 50%;}#sk-container-id-1 div.sk-parallel-item:only-child::after {width: 0;}#sk-container-id-1 div.sk-dashed-wrapped {border: 1px dashed gray;margin: 0 0.4em 0.5em 0.4em;box-sizing: border-box;padding-bottom: 0.4em;background-color: white;}#sk-container-id-1 div.sk-label label {font-family: monospace;font-weight: bold;display: inline-block;line-height: 1.2em;}#sk-container-id-1 div.sk-label-container {text-align: center;}#sk-container-id-1 div.sk-container {/* jupyter's `normalize.less` sets `[hidden] { display: none; }` but bootstrap.min.css set `[hidden] { display: none !important; }` so we also need the `!important` here to be able to override the default hidden behavior on the sphinx rendered scikit-learn.org. See: https://github.com/scikit-learn/scikit-learn/issues/21755 */display: inline-block !important;position: relative;}#sk-container-id-1 div.sk-text-repr-fallback {display: none;}</style><div id=\"sk-container-id-1\" class=\"sk-top-container\"><div class=\"sk-text-repr-fallback\"><pre>RandomForestClassifier(class_weight=&#x27;balanced&#x27;, max_features=10,\n",
              "                       min_samples_leaf=2, min_samples_split=5,\n",
              "                       n_estimators=20)</pre><b>In a Jupyter environment, please rerun this cell to show the HTML representation or trust the notebook. <br />On GitHub, the HTML representation is unable to render, please try loading this page with nbviewer.org.</b></div><div class=\"sk-container\" hidden><div class=\"sk-item\"><div class=\"sk-estimator sk-toggleable\"><input class=\"sk-toggleable__control sk-hidden--visually\" id=\"sk-estimator-id-1\" type=\"checkbox\" checked><label for=\"sk-estimator-id-1\" class=\"sk-toggleable__label sk-toggleable__label-arrow\">RandomForestClassifier</label><div class=\"sk-toggleable__content\"><pre>RandomForestClassifier(class_weight=&#x27;balanced&#x27;, max_features=10,\n",
              "                       min_samples_leaf=2, min_samples_split=5,\n",
              "                       n_estimators=20)</pre></div></div></div></div></div>"
            ],
            "text/plain": [
              "RandomForestClassifier(class_weight='balanced', max_features=10,\n",
              "                       min_samples_leaf=2, min_samples_split=5,\n",
              "                       n_estimators=20)"
            ]
          },
          "execution_count": 8,
          "metadata": {},
          "output_type": "execute_result"
        }
      ],
      "source": [
        "rf_model = RandomForestClassifier(\n",
        "        n_estimators=20,\n",
        "        bootstrap=True,\n",
        "        criterion=\"gini\",\n",
        "        max_depth=None,\n",
        "        max_features=10,\n",
        "        min_samples_leaf=2,\n",
        "        min_samples_split=5,\n",
        "        class_weight=\"balanced\")\n",
        "    \n",
        "rf_model.fit(X_train, y_train)"
      ]
    },
    {
      "cell_type": "markdown",
      "metadata": {
        "id": "xn8WIF_4Ljme"
      },
      "source": [
        "Evaluate Random Forest"
      ]
    },
    {
      "cell_type": "code",
      "execution_count": 9,
      "metadata": {
        "colab": {
          "base_uri": "https://localhost:8080/"
        },
        "id": "elGqCwO7DhDi",
        "outputId": "2dce1d61-e9c9-4a51-92d0-c6d801e21274"
      },
      "outputs": [
        {
          "name": "stdout",
          "output_type": "stream",
          "text": [
            "Mean AUC: 0.846 \n",
            "Std AUC: 0.034 \n"
          ]
        }
      ],
      "source": [
        "from sklearn.model_selection import cross_val_score\n",
        "\n",
        "cv = RepeatedStratifiedKFold(n_splits=10, n_repeats=3, random_state=42)\n",
        "\n",
        "rf_cv_results = cross_val_score(rf_model, X_test, y_test, scoring=\"roc_auc\", cv = cv)\n",
        "\n",
        "print(\"Mean AUC: {0:.3f} \\nStd AUC: {1:.3f} \".format(\n",
        "    rf_cv_results.mean(), rf_cv_results.std()))"
      ]
    },
    {
      "cell_type": "markdown",
      "metadata": {
        "id": "TdmE7_NZLrLI"
      },
      "source": [
        "Precision-Recall vs Threshold Curve"
      ]
    },
    {
      "cell_type": "code",
      "execution_count": 10,
      "metadata": {
        "colab": {
          "base_uri": "https://localhost:8080/",
          "height": 312
        },
        "id": "MD1y0G1IDiD7",
        "outputId": "a7b81fd3-bb59-444a-ecb5-5e69bde6ea11"
      },
      "outputs": [
        {
          "data": {
            "text/plain": [
              "(0.0, 1.0)"
            ]
          },
          "execution_count": 10,
          "metadata": {},
          "output_type": "execute_result"
        },
        {
          "data": {
            "image/png": "[encoded data removed]",
            "text/plain": [
              "<Figure size 640x480 with 1 Axes>"
            ]
          },
          "metadata": {},
          "output_type": "display_data"
        }
      ],
      "source": [
        "from sklearn.metrics import precision_recall_curve\n",
        "import matplotlib.pyplot as plt\n",
        "predicted_proba = rf_model.predict_proba(X_test)\n",
        "precision, recall, thresholds = precision_recall_curve(y_test, predicted_proba[:, 1])\n",
        "\n",
        "plt.title(\"Precision-Recall vs Threshold Chart - Best Random Forest\")\n",
        "plt.plot(thresholds, recall[: -1], \"r\", label=\"Recall\")\n",
        "plt.plot(thresholds, precision[: -1], \"b\", label=\"Precision\")\n",
        "plt.ylabel(\"Precision, Recall\")\n",
        "plt.xlabel(\"Threshold\")\n",
        "plt.legend(loc=\"upper right\")\n",
        "plt.ylim([0, 1])"
      ]
    },
    {
      "cell_type": "markdown",
      "metadata": {
        "id": "hMb7pw1HLu1Y"
      },
      "source": [
        "Further fine tuning best Random Forest parameters by threshold"
      ]
    },
    {
      "cell_type": "code",
      "execution_count": 15,
      "metadata": {
        "colab": {
          "base_uri": "https://localhost:8080/"
        },
        "id": "xGi6-39lLppZ",
        "outputId": "7b6f03b6-126a-4f79-8e14-547d4cfdf9c0"
      },
      "outputs": [
        {
          "name": "stdout",
          "output_type": "stream",
          "text": [
            "Classification Report \n",
            "Threshold =  0.1  \n",
            "Algorithm =  RandomForestClassifier(class_weight='balanced', max_features=10,\n",
            "                       min_samples_leaf=2, min_samples_split=5,\n",
            "                       n_estimators=20)\n",
            "Precision: \t 0.25\n",
            "Recall: \t 0.817\n",
            "Specificity: \t 0.877\n",
            "G-mean: \t 0.847\n",
            "AUC: \t\t 0.847\n"
          ]
        }
      ],
      "source": [
        "threshold = .1\n",
        "\n",
        "y_preds = (predicted_proba [:,1] >= threshold).astype('int')\n",
        "\n",
        "print(\"Classification Report \\nThreshold = \", threshold,\" \\nAlgorithm = \", rf_model)\n",
        "#print(classification_report(y_test, y_preds, digits=4))\n",
        "tn, fp, fn, tp = confusion_matrix(y_test, y_preds).ravel()\n",
        "precision = tp/(tp+fp)\n",
        "recall = tp/(tp+fn)\n",
        "specificity = tn / (tn+fp)\n",
        "G_mean = np.sqrt(recall*specificity)\n",
        "AUC = (recall+specificity)/2\n",
        "print(\"Precision: \\t\", precision.round(3))\n",
        "print(\"Recall: \\t\", recall.round(3))\n",
        "print(\"Specificity: \\t\", specificity.round(3))\n",
        "print(\"G-mean: \\t\", G_mean.round(3))\n",
        "print(\"AUC: \\t\\t\", AUC.round(3))"
      ]
    },
    {
      "cell_type": "code",
      "execution_count": 16,
      "metadata": {
        "colab": {
          "base_uri": "https://localhost:8080/",
          "height": 279
        },
        "id": "AxP9BY0IbbZQ",
        "outputId": "45e3359f-c6d4-4ed6-9f73-694dbaee7dd7"
      },
      "outputs": [
        {
          "data": {
            "image/png": "[encoded data removed]",
            "text/plain": [
              "<Figure size 640x480 with 2 Axes>"
            ]
          },
          "metadata": {},
          "output_type": "display_data"
        }
      ],
      "source": [
        "from sklearn.metrics import ConfusionMatrixDisplay\n",
        "\n",
        "# Confusion matrix test\n",
        "confusion_matrix(y_test, y_preds)\n",
        "disp = ConfusionMatrixDisplay.from_estimator(rf_model, X_test, y_test)"
      ]
    },
    {
      "cell_type": "markdown",
      "metadata": {
        "id": "A7DMGfvQAtzI"
      },
      "source": [
        "## **Display mean and std AUC for aech of the 5 years for SMOTEENN**"
      ]
    },
    {
      "cell_type": "code",
      "execution_count": 17,
      "metadata": {
        "colab": {
          "base_uri": "https://localhost:8080/"
        },
        "id": "qHd3JNinAw4u",
        "outputId": "aeb5295e-3a5b-4e82-a333-1dc69d2b1465"
      },
      "outputs": [
        {
          "name": "stdout",
          "output_type": "stream",
          "text": [
            "\n",
            " 1year.arff \n",
            "\n",
            "Mean AUC: 0.795 \n",
            "Std  AUC: 0.131 \n",
            "\n",
            " 2year.arff \n",
            "\n",
            "Mean AUC: 0.729 \n",
            "Std  AUC: 0.101 \n",
            "\n",
            " 3year.arff \n",
            "\n",
            "Mean AUC: 0.804 \n",
            "Std  AUC: 0.076 \n",
            "\n",
            " 4year.arff \n",
            "\n",
            "Mean AUC: 0.758 \n",
            "Std  AUC: 0.073 \n",
            "\n",
            " 5year.arff \n",
            "\n",
            "Mean AUC: 0.869 \n",
            "Std  AUC: 0.054 \n"
          ]
        }
      ],
      "source": []
    },
    {
      "cell_type": "markdown",
      "metadata": {
        "id": "3icmDnpwL2iL"
      },
      "source": [
        "# XGBoost"
      ]
    },
    {
      "cell_type": "markdown",
      "metadata": {
        "id": "vF2JR87dNp5A"
      },
      "source": [
        "(SKIP THIS) Set Initial xgb.cv() and perform CV "
      ]
    },
    {
      "cell_type": "code",
      "execution_count": 59,
      "metadata": {
        "colab": {
          "base_uri": "https://localhost:8080/"
        },
        "id": "PwViExWbYhHE",
        "outputId": "ecd3c745-5f11-42d2-bd2e-4f79ac129877"
      },
      "outputs": [
        {
          "name": "stdout",
          "output_type": "stream",
          "text": [
            "[0]\ttrain-auc:0.97612+0.00433\ttest-auc:0.78506+0.04570\n",
            "[50]\ttrain-auc:0.99999+0.00001\ttest-auc:0.90083+0.03888\n",
            "[100]\ttrain-auc:1.00000+0.00000\ttest-auc:0.91653+0.03268\n",
            "[150]\ttrain-auc:1.00000+0.00000\ttest-auc:0.92237+0.03101\n",
            "[200]\ttrain-auc:1.00000+0.00000\ttest-auc:0.92689+0.02979\n",
            "[250]\ttrain-auc:1.00000+0.00000\ttest-auc:0.92985+0.02885\n",
            "[300]\ttrain-auc:1.00000+0.00000\ttest-auc:0.93158+0.02807\n",
            "[350]\ttrain-auc:1.00000+0.00000\ttest-auc:0.93294+0.02751\n",
            "[400]\ttrain-auc:1.00000+0.00000\ttest-auc:0.93367+0.02703\n",
            "[450]\ttrain-auc:1.00000+0.00000\ttest-auc:0.93438+0.02665\n",
            "[500]\ttrain-auc:1.00000+0.00000\ttest-auc:0.93487+0.02624\n",
            "[512]\ttrain-auc:1.00000+0.00000\ttest-auc:0.93488+0.02612\n",
            "\n",
            "Best AUC was  0.934975 at round  503\n"
          ]
        }
      ],
      "source": [
        "# CONTROL\n",
        "dtrain = xgb.DMatrix(X_train, label=y_train)\n",
        "# dval = xgb.DMatrix(X_test, label=y_test)\n",
        "\n",
        "# initial parameters\n",
        "# params = {'eta':0.1, \n",
        "#           'max_depth':10, \n",
        "#           'subsample':1.0,\n",
        "#           'min_child_weight':5, \n",
        "#           'colsample_bytree':0.2,\n",
        "#           'colsample_bylevel':0.2,\n",
        "#           'colsample_bynode':0.2,\n",
        "#           'objective':'binary:logistic',\n",
        "#           'eval_metric':'auc'\n",
        "#           }\n",
        "# sequential parameters to tune are: max_depth, subsample,\n",
        "# min_child_weight, colsample_bytree, \n",
        "# colsample_bylevel and colsample_bynode\n",
        "params = {'eta':0.05, \n",
        "          'max_depth':12, \n",
        "          'subsample':1.0,\n",
        "          'min_child_weight':5, \n",
        "          'colsample_bytree':0.2,\n",
        "          'colsample_bylevel':0.6,\n",
        "          'colsample_bynode':1.0,\n",
        "          'objective':'binary:logistic',\n",
        "          'eval_metric':'auc',\n",
        "          'scale_pos_weight':20\n",
        "          }\n",
        "\n",
        "cv_results = xgb.cv(params, dtrain, \n",
        "                    num_boost_round=1000000,  # the longer the better\n",
        "                    folds=cv,\n",
        "                    verbose_eval=50,          # display rounds of 10, save space\n",
        "                    early_stopping_rounds=10, \n",
        "                    # If early_stopping_rounds = n, \n",
        "                    # XGBoost will halt before reaching num_boost_round\n",
        "                    # if it has gone n rounds without an improvement in metric.\n",
        "                    seed=42)\n",
        "best_num_rounds = np.argmax(cv_results[\"test-auc-mean\"])\n",
        "print(\"\\nBest AUC was \", cv_results[\"test-auc-mean\"][best_num_rounds].round(6), \"at round \", best_num_rounds)"
      ]
    },
    {
      "attachments": {},
      "cell_type": "markdown",
      "metadata": {
        "id": "cAmICrsHV9Ac"
      },
      "source": [
        "- 'max_depth':10..Best AUC was  0.895461 at round  241\n",
        "- 'max_depth':8.....Best AUC was  0.892203 at round  184\n",
        "- 'max_depth':12...Best AUC was  0.903214 at round  493 <- WINNER\n",
        "- 'max_depth':12, 'subsample':0.8..Best AUC was  0.896663 at round  366 <- left alone\n",
        "- 'max_depth':12, 'subsample':1.0, 'min_child_weight':3..Best AUC was  0.895863 at round  246\n",
        "- 'max_depth':12, 'subsample':1.0, 'min_child_weight':7..Best AUC was  0.892757 at round  183 <- left alone\n",
        "- 'max_depth':12, 'subsample':1.0, 'min_child_weight':5, 'colsample_bytree':0.4..Best AUC was  0.89906 at round  406\n",
        "- 'max_depth':12, 'subsample':1.0, 'min_child_weight':5, 'colsample_bytree':0.1..Best AUC was  0.896615 at round  348 <- left alone\n",
        "- 'max_depth':12, 'subsample':1.0, 'min_child_weight':5, 'colsample_bytree':0.1, 'colsample_bylevel':0.4..Best AUC was  0.902782 at round  559\n",
        "- 'max_depth':12, 'subsample':1.0, 'min_child_weight':5, 'colsample_bytree':0.1, 'colsample_bylevel':0.6..Best AUC was  0.903521 at round  477 <- WINNER\n",
        "- 'max_depth':12, 'subsample':1.0, 'min_child_weight':5, 'colsample_bytree':0.1, 'colsample_bylevel':0.8..Best AUC was  0.898558 at round  320\n",
        "- 'max_depth':12, 'subsample':1.0, 'min_child_weight':5, 'colsample_bytree':0.1, 'colsample_bylevel':0.8, 'colsample_bynode':0.4..Best AUC was  0.916029 at round  313\n",
        "- 'max_depth':12, 'subsample':1.0, 'min_child_weight':5, 'colsample_bytree':0.1, 'colsample_bylevel':0.8, 'colsample_bynode':0.6..Best AUC was  0.926956 at round  261\n",
        "- 'max_depth':12, 'subsample':1.0, 'min_child_weight':5, 'colsample_bytree':0.1, 'colsample_bylevel':0.8, 'colsample_bynode':0.8..Best AUC was  0.929673 at round  283\n",
        "- 'max_depth':12, 'subsample':1.0, 'min_child_weight':5, 'colsample_bytree':0.1, 'colsample_bylevel':0.8, 'colsample_bynode':0.9..Best AUC was  0.932725 at round  283\n",
        "- 'max_depth':12, 'subsample':1.0, 'min_child_weight':5, 'colsample_bytree':0.1, 'colsample_bylevel':0.8, 'colsample_bynode':1.0..Best AUC was  0.932798 at round  279 <- WINNER\n",
        "- 'max_depth':12, 'subsample':1.0, 'min_child_weight':5, 'colsample_bytree':0.1, 'colsample_bylevel':0.8, 'colsample_bynode':1.0, 'eta':0.05..Best AUC was  0.934975 at round  503 <- WINNER\n",
        "- 'max_depth':12, 'subsample':1.0, 'min_child_weight':5, 'colsample_bytree':0.1, 'colsample_bylevel':0.8, 'colsample_bynode':1.0, 'eta':0.02..Best AUC was  0.934697 at round  938\n",
        "- 'max_depth':12, 'subsample':1.0, 'min_child_weight':5, 'colsample_bytree':0.1, 'colsample_bylevel':0.8, 'colsample_bynode':1.0, 'eta':0.07..Best AUC was  0.931931 at round  270\n",
        "- 'max_depth':12, 'subsample':1.0, 'min_child_weight':5, 'colsample_bytree':0.1, 'colsample_bylevel':0.8, 'colsample_bynode':1.0, 'eta':0.04..Best AUC was  0.934198 at round  496\n",
        "- 'max_depth':12, 'subsample':1.0, 'min_child_weight':5, 'colsample_bytree':0.1, 'colsample_bylevel':0.8, 'colsample_bynode':1.0, 'eta':0.03..Best AUC was  0.934407 at round  651"
      ]
    },
    {
      "cell_type": "code",
      "execution_count": 61,
      "metadata": {
        "colab": {
          "base_uri": "https://localhost:8080/"
        },
        "id": "qV1LpTo6LqkH",
        "outputId": "1f727760-cb91-437a-81cd-a2b2b0b02e64"
      },
      "outputs": [
        {
          "data": {
            "text/html": [
              "<style>#sk-container-id-3 {color: black;background-color: white;}#sk-container-id-3 pre{padding: 0;}#sk-container-id-3 div.sk-toggleable {background-color: white;}#sk-container-id-3 label.sk-toggleable__label {cursor: pointer;display: block;width: 100%;margin-bottom: 0;padding: 0.3em;box-sizing: border-box;text-align: center;}#sk-container-id-3 label.sk-toggleable__label-arrow:before {content: \"▸\";float: left;margin-right: 0.25em;color: #696969;}#sk-container-id-3 label.sk-toggleable__label-arrow:hover:before {color: black;}#sk-container-id-3 div.sk-estimator:hover label.sk-toggleable__label-arrow:before {color: black;}#sk-container-id-3 div.sk-toggleable__content {max-height: 0;max-width: 0;overflow: hidden;text-align: left;background-color: #f0f8ff;}#sk-container-id-3 div.sk-toggleable__content pre {margin: 0.2em;color: black;border-radius: 0.25em;background-color: #f0f8ff;}#sk-container-id-3 input.sk-toggleable__control:checked~div.sk-toggleable__content {max-height: 200px;max-width: 100%;overflow: auto;}#sk-container-id-3 input.sk-toggleable__control:checked~label.sk-toggleable__label-arrow:before {content: \"▾\";}#sk-container-id-3 div.sk-estimator input.sk-toggleable__control:checked~label.sk-toggleable__label {background-color: #d4ebff;}#sk-container-id-3 div.sk-label input.sk-toggleable__control:checked~label.sk-toggleable__label {background-color: #d4ebff;}#sk-container-id-3 input.sk-hidden--visually {border: 0;clip: rect(1px 1px 1px 1px);clip: rect(1px, 1px, 1px, 1px);height: 1px;margin: -1px;overflow: hidden;padding: 0;position: absolute;width: 1px;}#sk-container-id-3 div.sk-estimator {font-family: monospace;background-color: #f0f8ff;border: 1px dotted black;border-radius: 0.25em;box-sizing: border-box;margin-bottom: 0.5em;}#sk-container-id-3 div.sk-estimator:hover {background-color: #d4ebff;}#sk-container-id-3 div.sk-parallel-item::after {content: \"\";width: 100%;border-bottom: 1px solid gray;flex-grow: 1;}#sk-container-id-3 div.sk-label:hover label.sk-toggleable__label {background-color: #d4ebff;}#sk-container-id-3 div.sk-serial::before {content: \"\";position: absolute;border-left: 1px solid gray;box-sizing: border-box;top: 0;bottom: 0;left: 50%;z-index: 0;}#sk-container-id-3 div.sk-serial {display: flex;flex-direction: column;align-items: center;background-color: white;padding-right: 0.2em;padding-left: 0.2em;position: relative;}#sk-container-id-3 div.sk-item {position: relative;z-index: 1;}#sk-container-id-3 div.sk-parallel {display: flex;align-items: stretch;justify-content: center;background-color: white;position: relative;}#sk-container-id-3 div.sk-item::before, #sk-container-id-3 div.sk-parallel-item::before {content: \"\";position: absolute;border-left: 1px solid gray;box-sizing: border-box;top: 0;bottom: 0;left: 50%;z-index: -1;}#sk-container-id-3 div.sk-parallel-item {display: flex;flex-direction: column;z-index: 1;position: relative;background-color: white;}#sk-container-id-3 div.sk-parallel-item:first-child::after {align-self: flex-end;width: 50%;}#sk-container-id-3 div.sk-parallel-item:last-child::after {align-self: flex-start;width: 50%;}#sk-container-id-3 div.sk-parallel-item:only-child::after {width: 0;}#sk-container-id-3 div.sk-dashed-wrapped {border: 1px dashed gray;margin: 0 0.4em 0.5em 0.4em;box-sizing: border-box;padding-bottom: 0.4em;background-color: white;}#sk-container-id-3 div.sk-label label {font-family: monospace;font-weight: bold;display: inline-block;line-height: 1.2em;}#sk-container-id-3 div.sk-label-container {text-align: center;}#sk-container-id-3 div.sk-container {/* jupyter's `normalize.less` sets `[hidden] { display: none; }` but bootstrap.min.css set `[hidden] { display: none !important; }` so we also need the `!important` here to be able to override the default hidden behavior on the sphinx rendered scikit-learn.org. See: https://github.com/scikit-learn/scikit-learn/issues/21755 */display: inline-block !important;position: relative;}#sk-container-id-3 div.sk-text-repr-fallback {display: none;}</style><div id=\"sk-container-id-3\" class=\"sk-top-container\"><div class=\"sk-text-repr-fallback\"><pre>XGBClassifier(base_score=None, booster=None, callbacks=None,\n",
              "              colsample_bylevel=0.8, colsample_bynode=1.0, colsample_bytree=0.1,\n",
              "              early_stopping_rounds=None, enable_categorical=False, eta=0.05,\n",
              "              eval_metric=&#x27;auc&#x27;, feature_types=None, gamma=None, gpu_id=None,\n",
              "              grow_policy=None, importance_type=None,\n",
              "              interaction_constraints=None, learning_rate=None, max_bin=None,\n",
              "              max_cat_threshold=None, max_cat_to_onehot=None,\n",
              "              max_delta_step=None, max_depth=12, max_leaves=None,\n",
              "              min_child_weight=5, missing=nan, monotone_constraints=None,\n",
              "              n_estimators=1000, n_jobs=None, num_parallel_tree=None,\n",
              "              predictor=None, ...)</pre><b>In a Jupyter environment, please rerun this cell to show the HTML representation or trust the notebook. <br />On GitHub, the HTML representation is unable to render, please try loading this page with nbviewer.org.</b></div><div class=\"sk-container\" hidden><div class=\"sk-item\"><div class=\"sk-estimator sk-toggleable\"><input class=\"sk-toggleable__control sk-hidden--visually\" id=\"sk-estimator-id-3\" type=\"checkbox\" checked><label for=\"sk-estimator-id-3\" class=\"sk-toggleable__label sk-toggleable__label-arrow\">XGBClassifier</label><div class=\"sk-toggleable__content\"><pre>XGBClassifier(base_score=None, booster=None, callbacks=None,\n",
              "              colsample_bylevel=0.8, colsample_bynode=1.0, colsample_bytree=0.1,\n",
              "              early_stopping_rounds=None, enable_categorical=False, eta=0.05,\n",
              "              eval_metric=&#x27;auc&#x27;, feature_types=None, gamma=None, gpu_id=None,\n",
              "              grow_policy=None, importance_type=None,\n",
              "              interaction_constraints=None, learning_rate=None, max_bin=None,\n",
              "              max_cat_threshold=None, max_cat_to_onehot=None,\n",
              "              max_delta_step=None, max_depth=12, max_leaves=None,\n",
              "              min_child_weight=5, missing=nan, monotone_constraints=None,\n",
              "              n_estimators=1000, n_jobs=None, num_parallel_tree=None,\n",
              "              predictor=None, ...)</pre></div></div></div></div></div>"
            ],
            "text/plain": [
              "XGBClassifier(base_score=None, booster=None, callbacks=None,\n",
              "              colsample_bylevel=0.8, colsample_bynode=1.0, colsample_bytree=0.1,\n",
              "              early_stopping_rounds=None, enable_categorical=False, eta=0.05,\n",
              "              eval_metric='auc', feature_types=None, gamma=None, gpu_id=None,\n",
              "              grow_policy=None, importance_type=None,\n",
              "              interaction_constraints=None, learning_rate=None, max_bin=None,\n",
              "              max_cat_threshold=None, max_cat_to_onehot=None,\n",
              "              max_delta_step=None, max_depth=12, max_leaves=None,\n",
              "              min_child_weight=5, missing=nan, monotone_constraints=None,\n",
              "              n_estimators=1000, n_jobs=None, num_parallel_tree=None,\n",
              "              predictor=None, ...)"
            ]
          },
          "execution_count": 61,
          "metadata": {},
          "output_type": "execute_result"
        }
      ],
      "source": [
        "# retrain the model on the full training set using the best number of rounds\n",
        "xgb_model = XGBClassifier(subsample=1.0,\n",
        "                          max_depth=12,\n",
        "                          min_child_weight=5,\n",
        "                          colsample_bytree=0.1,\n",
        "                          colsample_bylevel=0.8,\n",
        "                          colsample_bynode=1.0,\n",
        "                          eta=0.05,\n",
        "                          eval_metric='auc',\n",
        "                          objective='binary:logistic',\n",
        "                          n_estimators=1000,\n",
        "                          verbosity=1) #,\n",
        "                          #early_stopping_rounds=10)\n",
        "xgb_model.fit(X_train, y_train)"
      ]
    },
    {
      "cell_type": "markdown",
      "metadata": {
        "id": "R-H9xAhEMR3g"
      },
      "source": [
        "Evaluate XGBoost"
      ]
    },
    {
      "cell_type": "code",
      "execution_count": 62,
      "metadata": {
        "colab": {
          "base_uri": "https://localhost:8080/"
        },
        "id": "CWkK9jGPMORC",
        "outputId": "9cda47cd-0981-4f5f-a45d-b54dd98513d9"
      },
      "outputs": [
        {
          "name": "stdout",
          "output_type": "stream",
          "text": [
            "Mean AUC: 0.925 \n",
            "Std AUC: 0.033\n"
          ]
        }
      ],
      "source": [
        "cv = RepeatedStratifiedKFold(n_splits=10, n_repeats=3, random_state=42)\n",
        "\n",
        "xgb_cv_results = cross_val_score(xgb_model, X_test, y_test, scoring=\"roc_auc\", cv = cv)\n",
        "print(\"Mean AUC: {0:.3f} \\nStd AUC: {1:.3f}\".format(\n",
        "    xgb_cv_results.mean(), xgb_cv_results.std()))"
      ]
    },
    {
      "cell_type": "markdown",
      "metadata": {},
      "source": [
        "Precision-Recall vs Threshold"
      ]
    },
    {
      "cell_type": "code",
      "execution_count": 66,
      "metadata": {},
      "outputs": [
        {
          "data": {
            "text/plain": [
              "(0.0, 1.0)"
            ]
          },
          "execution_count": 66,
          "metadata": {},
          "output_type": "execute_result"
        },
        {
          "data": {
            "image/png": "[encoded data removed]",
            "text/plain": [
              "<Figure size 640x480 with 1 Axes>"
            ]
          },
          "metadata": {},
          "output_type": "display_data"
        }
      ],
      "source": [
        "from sklearn.metrics import precision_recall_curve\n",
        "import matplotlib.pyplot as plt\n",
        "predicted_proba = xgb_model.predict_proba(X_test)\n",
        "precision, recall, thresholds = precision_recall_curve(y_test, predicted_proba[:, 1])\n",
        "\n",
        "plt.title(\"Precision-Recall vs Threshold Chart - Best XGBoost\")\n",
        "plt.plot(thresholds, recall[: -1], \"r\", label=\"Recall\")\n",
        "plt.plot(thresholds, precision[: -1], \"b\", label=\"Precision\")\n",
        "plt.ylabel(\"Precision, Recall\")\n",
        "plt.xlabel(\"Threshold\")\n",
        "plt.legend(loc=\"upper right\")\n",
        "plt.ylim([0, 1])"
      ]
    },
    {
      "cell_type": "markdown",
      "metadata": {},
      "source": [
        "Adjust Threshold"
      ]
    },
    {
      "cell_type": "code",
      "execution_count": 73,
      "metadata": {},
      "outputs": [
        {
          "name": "stdout",
          "output_type": "stream",
          "text": [
            "Classification Report \n",
            "Threshold =  0.07  \n",
            "Algorithm =  RandomForestClassifier(class_weight='balanced', max_features=10,\n",
            "                       min_samples_leaf=2, min_samples_split=5,\n",
            "                       n_estimators=20)\n",
            "Precision: \t 0.58\n",
            "Recall: \t 0.767\n",
            "Specificity: \t 0.954\n",
            "G-mean: \t 0.855\n",
            "AUC: \t\t 0.86\n"
          ]
        }
      ],
      "source": [
        "threshold = .07\n",
        "\n",
        "y_preds = (predicted_proba [:,1] >= threshold).astype('int')\n",
        "\n",
        "print(\"Classification Report \\nThreshold = \", threshold,\" \\nAlgorithm = \", rf_model)\n",
        "#print(classification_report(y_test, y_preds, digits=4))\n",
        "tn, fp, fn, tp = confusion_matrix(y_test, y_preds).ravel()\n",
        "precision = tp/(tp+fp)\n",
        "recall = tp/(tp+fn)\n",
        "specificity = tn / (tn+fp)\n",
        "G_mean = np.sqrt(recall*specificity)\n",
        "AUC = (recall+specificity)/2\n",
        "print(\"Precision: \\t\", precision.round(3))\n",
        "print(\"Recall: \\t\", recall.round(3))\n",
        "print(\"Specificity: \\t\", specificity.round(3))\n",
        "print(\"G-mean: \\t\", G_mean.round(3))\n",
        "print(\"AUC: \\t\\t\", AUC.round(3))"
      ]
    },
    {
      "cell_type": "code",
      "execution_count": 74,
      "metadata": {},
      "outputs": [
        {
          "data": {
            "image/png": "[encoded data removed]",
            "text/plain": [
              "<Figure size 640x480 with 2 Axes>"
            ]
          },
          "metadata": {},
          "output_type": "display_data"
        }
      ],
      "source": [
        "from sklearn.metrics import ConfusionMatrixDisplay\n",
        "\n",
        "# Confusion matrix test\n",
        "confusion_matrix(y_test, y_preds)\n",
        "disp = ConfusionMatrixDisplay.from_estimator(xgb_model, X_test, y_test)"
      ]
    },
    {
      "attachments": {},
      "cell_type": "markdown",
      "metadata": {},
      "source": [
        "## **Display mean and std AUC for aech of the 5 years for SMOTEENN**"
      ]
    },
    {
      "cell_type": "code",
      "execution_count": 79,
      "metadata": {},
      "outputs": [
        {
          "name": "stdout",
          "output_type": "stream",
          "text": [
            "\n",
            " 1year.arff \n",
            "\n",
            "RandomForest \n",
            "Mean AUC: 0.798 \n",
            "Std  AUC: 0.109 \n",
            "XGBoost \n",
            "Mean AUC: 0.859 \n",
            "Std  AUC: 0.094\n",
            "\n",
            " 2year.arff \n",
            "\n",
            "RandomForest \n",
            "Mean AUC: 0.743 \n",
            "Std  AUC: 0.091 \n",
            "XGBoost \n",
            "Mean AUC: 0.821 \n",
            "Std  AUC: 0.067\n",
            "\n",
            " 3year.arff \n",
            "\n",
            "RandomForest \n",
            "Mean AUC: 0.788 \n",
            "Std  AUC: 0.065 \n",
            "XGBoost \n",
            "Mean AUC: 0.859 \n",
            "Std  AUC: 0.065\n",
            "\n",
            " 4year.arff \n",
            "\n",
            "RandomForest \n",
            "Mean AUC: 0.765 \n",
            "Std  AUC: 0.069 \n",
            "XGBoost \n",
            "Mean AUC: 0.835 \n",
            "Std  AUC: 0.067\n",
            "\n",
            " 5year.arff \n",
            "\n",
            "RandomForest \n",
            "Mean AUC: 0.883 \n",
            "Std  AUC: 0.060 \n",
            "XGBoost \n",
            "Mean AUC: 0.925 \n",
            "Std  AUC: 0.033\n"
          ]
        }
      ],
      "source": [
        "files = [\n",
        "    '1year.arff',\n",
        "    '2year.arff',\n",
        "    '3year.arff',\n",
        "    '4year.arff',\n",
        "    '5year.arff'\n",
        "    ]\n",
        "\n",
        "df = pd.DataFrame(arff.loadarff(files[0])[0])\n",
        "\n",
        "for f in files:\n",
        "    data_temp = arff.loadarff(f)\n",
        "    df = pd.DataFrame(data_temp[0])\n",
        "    #df = df.merge(df_temp, how='outer')\n",
        "\n",
        "    # Fixing response variable\n",
        "    df['class'] = df['class'].replace([b'0', b'1'], [0, 1])\n",
        "    X = df.loc[:, df.columns != 'class'].values\n",
        "    y = df['class'].values\n",
        "    X_train, X_test, y_train, y_test = train_test_split(\n",
        "        X, y, test_size=0.2, random_state=42)\n",
        "    # Fixing response variable\n",
        "    df['class'] = df['class'].replace([b'0', b'1'], [0, 1])\n",
        "\n",
        "    # Impute\n",
        "    X_train = SimpleImputer(strategy=\"median\").fit_transform(X_train)\n",
        "    X_test = SimpleImputer(strategy=\"median\").fit_transform(X_test)\n",
        "\n",
        "    # Normalize the data\n",
        "    X_train = RobustScaler().fit_transform(X_train)\n",
        "    X_test = RobustScaler().fit_transform(X_test)\n",
        "\n",
        "    rf_model = RandomForestClassifier(\n",
        "        n_estimators=20,\n",
        "        bootstrap=True,\n",
        "        criterion=\"gini\",\n",
        "        max_depth=None,\n",
        "        max_features=10,\n",
        "        min_samples_leaf=2,\n",
        "        min_samples_split=5,\n",
        "        class_weight=\"balanced\")\n",
        "    rf_model.fit(X_train, y_train)\n",
        "\n",
        "    xgb_model = XGBClassifier(subsample=1.0,\n",
        "                          max_depth=12,\n",
        "                          min_child_weight=5,\n",
        "                          colsample_bytree=0.1,\n",
        "                          colsample_bylevel=0.8,\n",
        "                          colsample_bynode=1.0,\n",
        "                          eta=0.05,\n",
        "                          eval_metric='auc',\n",
        "                          objective='binary:logistic',\n",
        "                          n_estimators=1000,\n",
        "                          verbosity=1) \n",
        "    xgb_model.fit(X_train, y_train)\n",
        "\n",
        "    cv = RepeatedStratifiedKFold(n_splits=10, n_repeats=3, random_state=42)\n",
        "\n",
        "    rf_cv_results = cross_val_score(rf_model, X_test, y_test, scoring=\"roc_auc\", cv = cv)\n",
        "    print(\"\\n\", f, \"\\n\")\n",
        "    print(\"RandomForest \\nMean AUC: {0:.3f} \\nStd  AUC: {1:.3f} \".format(\n",
        "        rf_cv_results.mean(), rf_cv_results.std()))\n",
        "    \n",
        "    xgb_cv_results = cross_val_score(xgb_model, X_test, y_test, scoring=\"roc_auc\", cv = cv)\n",
        "    print(\"XGBoost \\nMean AUC: {0:.3f} \\nStd  AUC: {1:.3f}\".format(\n",
        "    xgb_cv_results.mean(), xgb_cv_results.std()))"
      ]
    }
  ],
  "metadata": {
    "colab": {
      "provenance": []
    },
    "gpuClass": "standard",
    "kernelspec": {
      "display_name": "Python 3",
      "language": "python",
      "name": "python3"
    },
    "language_info": {
      "codemirror_mode": {
        "name": "ipython",
        "version": 3
      },
      "file_extension": ".py",
      "mimetype": "text/x-python",
      "name": "python",
      "nbconvert_exporter": "python",
      "pygments_lexer": "ipython3",
      "version": "3.10.5"
    },
    "vscode": {
      "interpreter": {
        "hash": "afb734500600fd355917ca529030176ea0ca205570884b88f2f6f7d791fd3fbe"
      }
    }
  },
  "nbformat": 4,
  "nbformat_minor": 0
}
