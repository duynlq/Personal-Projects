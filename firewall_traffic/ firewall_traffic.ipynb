{
 "cells": [
  {
   "cell_type": "code",
   "execution_count": 2,
   "id": "409aa11a",
   "metadata": {},
   "outputs": [],
   "source": [
    "## Use SVM and SGD to attempt to model and predict the class of an internet connection request.\n",
    "import pandas as pd\n",
    "import numpy as np\n",
    "import pandas as pd\n",
    "import matplotlib.pyplot as plt\n",
    "import seaborn as sns\n",
    "from sklearn.model_selection import GridSearchCV, RandomizedSearchCV\n",
    "from sklearn.metrics import confusion_matrix\n",
    "from sklearn.metrics import precision_score, recall_score, confusion_matrix, accuracy_score\n",
    "from sklearn.model_selection import train_test_split, cross_val_score, StratifiedKFold\n",
    "from sklearn.svm import LinearSVC\n",
    "from sklearn.pipeline import Pipeline\n",
    "from sklearn.preprocessing import StandardScaler\n",
    "from sklearn.linear_model import SGDClassifier"
   ]
  },
  {
   "attachments": {},
   "cell_type": "markdown",
   "id": "1eb0e229",
   "metadata": {},
   "source": [
    "# PREPROCESSING"
   ]
  },
  {
   "cell_type": "code",
   "execution_count": 3,
   "id": "02953eca",
   "metadata": {},
   "outputs": [
    {
     "name": "stdout",
     "output_type": "stream",
     "text": [
      "<class 'pandas.core.frame.DataFrame'>\n",
      "RangeIndex: 65532 entries, 0 to 65531\n",
      "Data columns (total 12 columns):\n",
      " #   Column                Non-Null Count  Dtype \n",
      "---  ------                --------------  ----- \n",
      " 0   Source Port           65532 non-null  int64 \n",
      " 1   Destination Port      65532 non-null  int64 \n",
      " 2   NAT Source Port       65532 non-null  int64 \n",
      " 3   NAT Destination Port  65532 non-null  int64 \n",
      " 4   Action                65532 non-null  object\n",
      " 5   Bytes                 65532 non-null  int64 \n",
      " 6   Bytes Sent            65532 non-null  int64 \n",
      " 7   Bytes Received        65532 non-null  int64 \n",
      " 8   Packets               65532 non-null  int64 \n",
      " 9   Elapsed Time (sec)    65532 non-null  int64 \n",
      " 10  pkts_sent             65532 non-null  int64 \n",
      " 11  pkts_received         65532 non-null  int64 \n",
      "dtypes: int64(11), object(1)\n",
      "memory usage: 6.0+ MB\n"
     ]
    },
    {
     "data": {
      "text/html": [
       "<div>\n",
       "<style scoped>\n",
       "    .dataframe tbody tr th:only-of-type {\n",
       "        vertical-align: middle;\n",
       "    }\n",
       "\n",
       "    .dataframe tbody tr th {\n",
       "        vertical-align: top;\n",
       "    }\n",
       "\n",
       "    .dataframe thead th {\n",
       "        text-align: right;\n",
       "    }\n",
       "</style>\n",
       "<table border=\"1\" class=\"dataframe\">\n",
       "  <thead>\n",
       "    <tr style=\"text-align: right;\">\n",
       "      <th></th>\n",
       "      <th>Source Port</th>\n",
       "      <th>Destination Port</th>\n",
       "      <th>NAT Source Port</th>\n",
       "      <th>NAT Destination Port</th>\n",
       "      <th>Bytes</th>\n",
       "      <th>Bytes Sent</th>\n",
       "      <th>Bytes Received</th>\n",
       "      <th>Packets</th>\n",
       "      <th>Elapsed Time (sec)</th>\n",
       "      <th>pkts_sent</th>\n",
       "      <th>pkts_received</th>\n",
       "    </tr>\n",
       "  </thead>\n",
       "  <tbody>\n",
       "    <tr>\n",
       "      <th>count</th>\n",
       "      <td>65532</td>\n",
       "      <td>65532</td>\n",
       "      <td>65532</td>\n",
       "      <td>65532</td>\n",
       "      <td>65532</td>\n",
       "      <td>65532</td>\n",
       "      <td>65532</td>\n",
       "      <td>65532</td>\n",
       "      <td>65532</td>\n",
       "      <td>65532</td>\n",
       "      <td>65532</td>\n",
       "    </tr>\n",
       "    <tr>\n",
       "      <th>mean</th>\n",
       "      <td>49392</td>\n",
       "      <td>10577</td>\n",
       "      <td>19283</td>\n",
       "      <td>2671</td>\n",
       "      <td>97124</td>\n",
       "      <td>22386</td>\n",
       "      <td>74738</td>\n",
       "      <td>103</td>\n",
       "      <td>66</td>\n",
       "      <td>41</td>\n",
       "      <td>61</td>\n",
       "    </tr>\n",
       "    <tr>\n",
       "      <th>std</th>\n",
       "      <td>15256</td>\n",
       "      <td>18466</td>\n",
       "      <td>21971</td>\n",
       "      <td>9739</td>\n",
       "      <td>5618439</td>\n",
       "      <td>3828139</td>\n",
       "      <td>2463208</td>\n",
       "      <td>5133</td>\n",
       "      <td>302</td>\n",
       "      <td>3219</td>\n",
       "      <td>2223</td>\n",
       "    </tr>\n",
       "    <tr>\n",
       "      <th>min</th>\n",
       "      <td>0</td>\n",
       "      <td>0</td>\n",
       "      <td>0</td>\n",
       "      <td>0</td>\n",
       "      <td>60</td>\n",
       "      <td>60</td>\n",
       "      <td>0</td>\n",
       "      <td>1</td>\n",
       "      <td>0</td>\n",
       "      <td>1</td>\n",
       "      <td>0</td>\n",
       "    </tr>\n",
       "    <tr>\n",
       "      <th>25%</th>\n",
       "      <td>49183</td>\n",
       "      <td>80</td>\n",
       "      <td>0</td>\n",
       "      <td>0</td>\n",
       "      <td>66</td>\n",
       "      <td>66</td>\n",
       "      <td>0</td>\n",
       "      <td>1</td>\n",
       "      <td>0</td>\n",
       "      <td>1</td>\n",
       "      <td>0</td>\n",
       "    </tr>\n",
       "    <tr>\n",
       "      <th>50%</th>\n",
       "      <td>53776</td>\n",
       "      <td>445</td>\n",
       "      <td>8820</td>\n",
       "      <td>53</td>\n",
       "      <td>168</td>\n",
       "      <td>90</td>\n",
       "      <td>79</td>\n",
       "      <td>2</td>\n",
       "      <td>15</td>\n",
       "      <td>1</td>\n",
       "      <td>1</td>\n",
       "    </tr>\n",
       "    <tr>\n",
       "      <th>75%</th>\n",
       "      <td>58638</td>\n",
       "      <td>15000</td>\n",
       "      <td>38366</td>\n",
       "      <td>443</td>\n",
       "      <td>752</td>\n",
       "      <td>210</td>\n",
       "      <td>449</td>\n",
       "      <td>6</td>\n",
       "      <td>30</td>\n",
       "      <td>3</td>\n",
       "      <td>2</td>\n",
       "    </tr>\n",
       "    <tr>\n",
       "      <th>max</th>\n",
       "      <td>65534</td>\n",
       "      <td>65535</td>\n",
       "      <td>65535</td>\n",
       "      <td>65535</td>\n",
       "      <td>1269359015</td>\n",
       "      <td>948477220</td>\n",
       "      <td>320881795</td>\n",
       "      <td>1036116</td>\n",
       "      <td>10824</td>\n",
       "      <td>747520</td>\n",
       "      <td>327208</td>\n",
       "    </tr>\n",
       "  </tbody>\n",
       "</table>\n",
       "</div>"
      ],
      "text/plain": [
       "       Source Port  Destination Port  NAT Source Port  NAT Destination Port  \\\n",
       "count        65532             65532            65532                 65532   \n",
       "mean         49392             10577            19283                  2671   \n",
       "std          15256             18466            21971                  9739   \n",
       "min              0                 0                0                     0   \n",
       "25%          49183                80                0                     0   \n",
       "50%          53776               445             8820                    53   \n",
       "75%          58638             15000            38366                   443   \n",
       "max          65534             65535            65535                 65535   \n",
       "\n",
       "           Bytes  Bytes Sent  Bytes Received  Packets  Elapsed Time (sec)  \\\n",
       "count      65532       65532           65532    65532               65532   \n",
       "mean       97124       22386           74738      103                  66   \n",
       "std      5618439     3828139         2463208     5133                 302   \n",
       "min           60          60               0        1                   0   \n",
       "25%           66          66               0        1                   0   \n",
       "50%          168          90              79        2                  15   \n",
       "75%          752         210             449        6                  30   \n",
       "max   1269359015   948477220       320881795  1036116               10824   \n",
       "\n",
       "       pkts_sent  pkts_received  \n",
       "count      65532          65532  \n",
       "mean          41             61  \n",
       "std         3219           2223  \n",
       "min            1              0  \n",
       "25%            1              0  \n",
       "50%            1              1  \n",
       "75%            3              2  \n",
       "max       747520         327208  "
      ]
     },
     "execution_count": 3,
     "metadata": {},
     "output_type": "execute_result"
    }
   ],
   "source": [
    "df = pd.read_csv('log2.csv')\n",
    "df.info()\n",
    "pd.set_option('display.float_format', lambda x: '%.0f' % x)\n",
    "df.describe()"
   ]
  },
  {
   "cell_type": "code",
   "execution_count": 4,
   "id": "32789a5d",
   "metadata": {},
   "outputs": [
    {
     "data": {
      "text/plain": [
       "Source Port             0\n",
       "Destination Port        0\n",
       "NAT Source Port         0\n",
       "NAT Destination Port    0\n",
       "Action                  0\n",
       "Bytes                   0\n",
       "Bytes Sent              0\n",
       "Bytes Received          0\n",
       "Packets                 0\n",
       "Elapsed Time (sec)      0\n",
       "pkts_sent               0\n",
       "pkts_received           0\n",
       "dtype: int64"
      ]
     },
     "execution_count": 4,
     "metadata": {},
     "output_type": "execute_result"
    }
   ],
   "source": [
    "# Missing Data\n",
    "df.isnull().sum()"
   ]
  },
  {
   "cell_type": "code",
   "execution_count": 5,
   "id": "39ec104c",
   "metadata": {},
   "outputs": [],
   "source": [
    "# FIX VARIABLE NAMES\n",
    "df = df.rename(columns={\"Source Port\": \"source_port\",\n",
    "                        \"Destination Port\": \"destination_port\",\n",
    "                        \"NAT Source Port\": \"nat_source_port\",\n",
    "                        \"NAT Destination Port\": \"nat_destination_port\",\n",
    "                        \"Action\": \"action\",\n",
    "                        \"Bytes\": \"bytes\",\n",
    "                        \"Bytes Sent\": \"bytes_sent\",\n",
    "                        \"Bytes Received\": \"bytes_received\",\n",
    "                        \"Packets\": \"packets\",\n",
    "                        \"Elapsed Time (sec)\": \"elapsed_time_sec\",\n",
    "                        \"pkts_sent\": \"packets_sent\",\n",
    "                        \"pkts_received\": \"packets_received\"})"
   ]
  },
  {
   "attachments": {},
   "cell_type": "markdown",
   "id": "034192d8",
   "metadata": {},
   "source": [
    "# FIX RESPONSE VARIABLE"
   ]
  },
  {
   "cell_type": "code",
   "execution_count": 6,
   "id": "53fcb2ee",
   "metadata": {},
   "outputs": [
    {
     "name": "stdout",
     "output_type": "stream",
     "text": [
      "allow         37640\n",
      "deny          14987\n",
      "drop          12851\n",
      "reset-both       54\n",
      "Name: action, dtype: int64\n"
     ]
    }
   ],
   "source": [
    "print(df.action.value_counts())"
   ]
  },
  {
   "cell_type": "code",
   "execution_count": 7,
   "id": "9b20f565",
   "metadata": {},
   "outputs": [
    {
     "name": "stdout",
     "output_type": "stream",
     "text": [
      "1    37640\n",
      "0    14987\n",
      "2    12851\n",
      "3       54\n",
      "Name: action, dtype: int64\n"
     ]
    }
   ],
   "source": [
    "\n",
    "# Combine \"drop\" and \"reset\" = \"deny\"\n",
    "# df['action'] = df['action'].map({'allow':'allow',\n",
    "#                                  'deny':'deny',\n",
    "#                                  'reset-both':'deny',\n",
    "#                                  'drop':'deny'})\n",
    "# Convert to numeric and categorical\n",
    "df['action'] = df['action'].replace(['allow', 'deny', 'drop', 'reset-both'], [1, 0, 2, 3]).astype('category')\n",
    "print(df.action.value_counts())"
   ]
  },
  {
   "cell_type": "code",
   "execution_count": 8,
   "id": "760a1e4f",
   "metadata": {},
   "outputs": [
    {
     "data": {
      "image/png": "[encoded data removed]",
      "text/plain": [
       "<Figure size 1200x1200 with 1 Axes>"
      ]
     },
     "metadata": {},
     "output_type": "display_data"
    }
   ],
   "source": [
    "import matplotlib.pyplot as plt\n",
    "# Plot of Spam Emails\n",
    "pie_labels = 'Allow', 'Deny', 'Drop', 'Reset Both'\n",
    "colors = ['lightskyblue', 'lightcoral','lightgreen', 'moccasin']\n",
    "explode = (0.1, 0, 0, 0)\n",
    "plt.figure(figsize=(12, 12))\n",
    "plt.subplot(121)\n",
    "df['action'].value_counts(dropna=False).plot.pie(\n",
    "    autopct='%0.2f%%', labels=pie_labels, colors=colors, explode=explode, shadow=True)\n",
    "\n",
    "plt.title(\"Connection Requests by Type\")\n",
    "plt.ylabel(\"\")\n",
    "plt.show()"
   ]
  },
  {
   "attachments": {},
   "cell_type": "markdown",
   "id": "1ec4bc2d",
   "metadata": {},
   "source": [
    "# FIX CATEGORICAL VARIABLES"
   ]
  },
  {
   "cell_type": "code",
   "execution_count": 9,
   "id": "24354a81",
   "metadata": {},
   "outputs": [
    {
     "name": "stdout",
     "output_type": "stream",
     "text": [
      "Percent of source_port accessed 1  time(s): \t 40.05456785777152\n",
      "Percent of source_port accessed 2  time(s): \t 19.60922372821686\n",
      "Percent of source_port accessed 3  time(s): \t 15.318605879246611\n",
      "Percent of source_port accessed 4  time(s): \t 8.502024291497975\n",
      "Percent of source_port accessed 5  time(s): \t 5.6416123921844745\n",
      "Percent of destination_port accessed 1  time(s): \t 47.63214176596395\n",
      "Percent of destination_port accessed 2  time(s): \t 32.81393217231897\n",
      "Percent of destination_port accessed 3  time(s): \t 5.0412465627864345\n",
      "Percent of destination_port accessed 4  time(s): \t 3.1164069660861595\n",
      "Percent of destination_port accessed 5  time(s): \t 1.435991445157348\n",
      "Percent of nat_source_port accessed 1  time(s): \t 76.87294182217343\n",
      "Percent of nat_source_port accessed 2  time(s): \t 19.83397365532382\n",
      "Percent of nat_source_port accessed 3  time(s): \t 2.9294731064764\n",
      "Percent of nat_source_port accessed 4  time(s): \t 0.3258781558726674\n",
      "Percent of nat_source_port accessed 5  time(s): \t 0.024012074643249177\n",
      "Percent of nat_destination_port accessed 1  time(s): \t 50.53296486379787\n",
      "Percent of nat_destination_port accessed 2  time(s): \t 38.92617449664429\n",
      "Percent of nat_destination_port accessed 3  time(s): \t 3.6320568495854717\n",
      "Percent of nat_destination_port accessed 4  time(s): \t 2.6056060007895776\n",
      "Percent of nat_destination_port accessed 5  time(s): \t 0.8290564547966837\n"
     ]
    }
   ],
   "source": [
    "for times_accessed in range(1, 6):\n",
    "    print(\"Percent of source_port accessed\", times_accessed, \" time(s): \\t\", \n",
    "          (len(df['source_port'].value_counts()[df['source_port'].value_counts() == times_accessed])/len(df[\"source_port\"].value_counts()))*100)\n",
    "\n",
    "    \n",
    "for times_accessed in range(1, 6):\n",
    "    print(\"Percent of destination_port accessed\", times_accessed, \" time(s): \\t\", \n",
    "          (len(df['destination_port'].value_counts()[df['destination_port'].value_counts() == times_accessed])/len(df[\"destination_port\"].value_counts()))*100)\n",
    "    \n",
    "for times_accessed in range(1, 6):\n",
    "    print(\"Percent of nat_source_port accessed\", times_accessed, \" time(s): \\t\", \n",
    "          (len(df['nat_source_port'].value_counts()[df['nat_source_port'].value_counts() == times_accessed])/len(df[\"nat_source_port\"].value_counts()))*100)\n",
    "    \n",
    "for times_accessed in range(1, 6):\n",
    "    print(\"Percent of nat_destination_port accessed\", times_accessed, \" time(s): \\t\", \n",
    "          (len(df['nat_destination_port'].value_counts()[df['nat_destination_port'].value_counts() == times_accessed])/len(df[\"nat_destination_port\"].value_counts()))*100)"
   ]
  },
  {
   "attachments": {},
   "cell_type": "markdown",
   "id": "522620f8",
   "metadata": {},
   "source": [
    "### source_port"
   ]
  },
  {
   "cell_type": "code",
   "execution_count": 10,
   "id": "5f575388",
   "metadata": {},
   "outputs": [
    {
     "data": {
      "text/plain": [
       "58638    840\n",
       "27005    513\n",
       "443      273\n",
       "57470    222\n",
       "49418    210\n",
       "        ... \n",
       "32996      1\n",
       "60574      1\n",
       "60570      1\n",
       "65368      1\n",
       "54871      1\n",
       "Name: source_port, Length: 22724, dtype: int64"
      ]
     },
     "execution_count": 10,
     "metadata": {},
     "output_type": "execute_result"
    }
   ],
   "source": [
    "df['source_port'].value_counts()"
   ]
  },
  {
   "cell_type": "code",
   "execution_count": 11,
   "id": "5870de2c",
   "metadata": {},
   "outputs": [
    {
     "data": {
      "text/plain": [
       "0        28630\n",
       "58638      840\n",
       "27005      513\n",
       "443        273\n",
       "57470      222\n",
       "         ...  \n",
       "51962        4\n",
       "57996        4\n",
       "51970        4\n",
       "56485        4\n",
       "64840        4\n",
       "Name: source_port, Length: 5685, dtype: int64"
      ]
     },
     "execution_count": 11,
     "metadata": {},
     "output_type": "execute_result"
    }
   ],
   "source": [
    "ports_freqs = df['source_port'].value_counts()\n",
    "\n",
    "ports_less_than_4 = ports_freqs[ports_freqs < 4].index\n",
    "df['source_port'] = df['source_port'].replace(ports_less_than_4, 0)\n",
    "df['source_port'].value_counts()"
   ]
  },
  {
   "attachments": {},
   "cell_type": "markdown",
   "id": "049fbf98",
   "metadata": {},
   "source": [
    "### destination_port"
   ]
  },
  {
   "cell_type": "code",
   "execution_count": 12,
   "id": "e812e268",
   "metadata": {},
   "outputs": [
    {
     "data": {
      "text/plain": [
       "53       15414\n",
       "445      12891\n",
       "443      11684\n",
       "80        4035\n",
       "25174     1087\n",
       "         ...  \n",
       "20009        1\n",
       "48608        1\n",
       "10016        1\n",
       "13384        1\n",
       "22455        1\n",
       "Name: destination_port, Length: 3273, dtype: int64"
      ]
     },
     "execution_count": 12,
     "metadata": {},
     "output_type": "execute_result"
    }
   ],
   "source": [
    "df['destination_port'].value_counts()"
   ]
  },
  {
   "cell_type": "code",
   "execution_count": 13,
   "id": "4e1354b0",
   "metadata": {},
   "outputs": [
    {
     "data": {
      "text/plain": [
       "53       15414\n",
       "445      12891\n",
       "443      11684\n",
       "80        4035\n",
       "0         3880\n",
       "         ...  \n",
       "33058        3\n",
       "36602        3\n",
       "7363         3\n",
       "37579        3\n",
       "22617        3\n",
       "Name: destination_port, Length: 640, dtype: int64"
      ]
     },
     "execution_count": 13,
     "metadata": {},
     "output_type": "execute_result"
    }
   ],
   "source": [
    "ports_freqs = df['destination_port'].value_counts()\n",
    "\n",
    "ports_less_than_4 = ports_freqs[ports_freqs < 3].index\n",
    "df['destination_port'] = df['destination_port'].replace(ports_less_than_4, 0)\n",
    "df['destination_port'].value_counts()"
   ]
  },
  {
   "attachments": {},
   "cell_type": "markdown",
   "id": "1871320e",
   "metadata": {},
   "source": [
    "### nat_source_port"
   ]
  },
  {
   "cell_type": "code",
   "execution_count": 14,
   "id": "ba2340eb",
   "metadata": {},
   "outputs": [
    {
     "data": {
      "text/plain": [
       "0        28432\n",
       "48817       83\n",
       "58638       51\n",
       "50116       15\n",
       "7986         5\n",
       "         ...  \n",
       "2063         1\n",
       "33661        1\n",
       "36797        1\n",
       "14122        1\n",
       "13485        1\n",
       "Name: nat_source_port, Length: 29152, dtype: int64"
      ]
     },
     "execution_count": 14,
     "metadata": {},
     "output_type": "execute_result"
    }
   ],
   "source": [
    "df['nat_source_port'].value_counts()"
   ]
  },
  {
   "cell_type": "code",
   "execution_count": 15,
   "id": "304f6834",
   "metadata": {},
   "outputs": [
    {
     "data": {
      "text/plain": [
       "0        62406\n",
       "48817       83\n",
       "58638       51\n",
       "50116       15\n",
       "57596        5\n",
       "         ...  \n",
       "55689        3\n",
       "61837        3\n",
       "38830        3\n",
       "63046        3\n",
       "55530        3\n",
       "Name: nat_source_port, Length: 960, dtype: int64"
      ]
     },
     "execution_count": 15,
     "metadata": {},
     "output_type": "execute_result"
    }
   ],
   "source": [
    "ports_freqs = df['nat_source_port'].value_counts()\n",
    "\n",
    "ports_less_than_4 = ports_freqs[ports_freqs < 3].index\n",
    "df['nat_source_port'] = df['nat_source_port'].replace(ports_less_than_4, 0)\n",
    "df['nat_source_port'].value_counts()"
   ]
  },
  {
   "attachments": {},
   "cell_type": "markdown",
   "id": "864c00a6",
   "metadata": {},
   "source": [
    "### nat_destination_port"
   ]
  },
  {
   "cell_type": "code",
   "execution_count": 16,
   "id": "07155ce7",
   "metadata": {},
   "outputs": [
    {
     "data": {
      "text/plain": [
       "0        28432\n",
       "53       15094\n",
       "443      11678\n",
       "80        4028\n",
       "27015      234\n",
       "         ...  \n",
       "45561        1\n",
       "45738        1\n",
       "41872        1\n",
       "25760        1\n",
       "32277        1\n",
       "Name: nat_destination_port, Length: 2533, dtype: int64"
      ]
     },
     "execution_count": 16,
     "metadata": {},
     "output_type": "execute_result"
    }
   ],
   "source": [
    "df['nat_destination_port'].value_counts()"
   ]
  },
  {
   "cell_type": "code",
   "execution_count": 17,
   "id": "285aa8d7",
   "metadata": {},
   "outputs": [
    {
     "data": {
      "text/plain": [
       "0        31684\n",
       "53       15094\n",
       "443      11678\n",
       "80        4028\n",
       "27015      234\n",
       "         ...  \n",
       "48019        3\n",
       "58695        3\n",
       "1035         3\n",
       "36498        3\n",
       "40003        3\n",
       "Name: nat_destination_port, Length: 267, dtype: int64"
      ]
     },
     "execution_count": 17,
     "metadata": {},
     "output_type": "execute_result"
    }
   ],
   "source": [
    "ports_freqs = df['nat_destination_port'].value_counts()\n",
    "\n",
    "ports_less_than_4 = ports_freqs[ports_freqs < 3].index\n",
    "df['nat_destination_port'] = df['nat_destination_port'].replace(ports_less_than_4, 0)\n",
    "df['nat_destination_port'].value_counts()"
   ]
  },
  {
   "attachments": {},
   "cell_type": "markdown",
   "id": "98ffa61e",
   "metadata": {},
   "source": [
    "### Final Peek"
   ]
  },
  {
   "cell_type": "code",
   "execution_count": 18,
   "id": "afdbf586",
   "metadata": {},
   "outputs": [],
   "source": [
    "categorical_cols = ['source_port','destination_port','nat_source_port','nat_destination_port']\n",
    "\n",
    "for i in categorical_cols:\n",
    "    df[i] = df[i].astype(\"category\")"
   ]
  },
  {
   "cell_type": "code",
   "execution_count": 19,
   "id": "6ec54994",
   "metadata": {},
   "outputs": [
    {
     "name": "stdout",
     "output_type": "stream",
     "text": [
      "<class 'pandas.core.frame.DataFrame'>\n",
      "RangeIndex: 65532 entries, 0 to 65531\n",
      "Data columns (total 12 columns):\n",
      " #   Column                Non-Null Count  Dtype   \n",
      "---  ------                --------------  -----   \n",
      " 0   source_port           65532 non-null  category\n",
      " 1   destination_port      65532 non-null  category\n",
      " 2   nat_source_port       65532 non-null  category\n",
      " 3   nat_destination_port  65532 non-null  category\n",
      " 4   action                65532 non-null  category\n",
      " 5   bytes                 65532 non-null  int64   \n",
      " 6   bytes_sent            65532 non-null  int64   \n",
      " 7   bytes_received        65532 non-null  int64   \n",
      " 8   packets               65532 non-null  int64   \n",
      " 9   elapsed_time_sec      65532 non-null  int64   \n",
      " 10  packets_sent          65532 non-null  int64   \n",
      " 11  packets_received      65532 non-null  int64   \n",
      "dtypes: category(5), int64(7)\n",
      "memory usage: 4.3 MB\n"
     ]
    },
    {
     "data": {
      "text/html": [
       "<div>\n",
       "<style scoped>\n",
       "    .dataframe tbody tr th:only-of-type {\n",
       "        vertical-align: middle;\n",
       "    }\n",
       "\n",
       "    .dataframe tbody tr th {\n",
       "        vertical-align: top;\n",
       "    }\n",
       "\n",
       "    .dataframe thead th {\n",
       "        text-align: right;\n",
       "    }\n",
       "</style>\n",
       "<table border=\"1\" class=\"dataframe\">\n",
       "  <thead>\n",
       "    <tr style=\"text-align: right;\">\n",
       "      <th></th>\n",
       "      <th>bytes</th>\n",
       "      <th>bytes_sent</th>\n",
       "      <th>bytes_received</th>\n",
       "      <th>packets</th>\n",
       "      <th>elapsed_time_sec</th>\n",
       "      <th>packets_sent</th>\n",
       "      <th>packets_received</th>\n",
       "    </tr>\n",
       "  </thead>\n",
       "  <tbody>\n",
       "    <tr>\n",
       "      <th>count</th>\n",
       "      <td>65532</td>\n",
       "      <td>65532</td>\n",
       "      <td>65532</td>\n",
       "      <td>65532</td>\n",
       "      <td>65532</td>\n",
       "      <td>65532</td>\n",
       "      <td>65532</td>\n",
       "    </tr>\n",
       "    <tr>\n",
       "      <th>mean</th>\n",
       "      <td>97124</td>\n",
       "      <td>22386</td>\n",
       "      <td>74738</td>\n",
       "      <td>103</td>\n",
       "      <td>66</td>\n",
       "      <td>41</td>\n",
       "      <td>61</td>\n",
       "    </tr>\n",
       "    <tr>\n",
       "      <th>std</th>\n",
       "      <td>5618439</td>\n",
       "      <td>3828139</td>\n",
       "      <td>2463208</td>\n",
       "      <td>5133</td>\n",
       "      <td>302</td>\n",
       "      <td>3219</td>\n",
       "      <td>2223</td>\n",
       "    </tr>\n",
       "    <tr>\n",
       "      <th>min</th>\n",
       "      <td>60</td>\n",
       "      <td>60</td>\n",
       "      <td>0</td>\n",
       "      <td>1</td>\n",
       "      <td>0</td>\n",
       "      <td>1</td>\n",
       "      <td>0</td>\n",
       "    </tr>\n",
       "    <tr>\n",
       "      <th>25%</th>\n",
       "      <td>66</td>\n",
       "      <td>66</td>\n",
       "      <td>0</td>\n",
       "      <td>1</td>\n",
       "      <td>0</td>\n",
       "      <td>1</td>\n",
       "      <td>0</td>\n",
       "    </tr>\n",
       "    <tr>\n",
       "      <th>50%</th>\n",
       "      <td>168</td>\n",
       "      <td>90</td>\n",
       "      <td>79</td>\n",
       "      <td>2</td>\n",
       "      <td>15</td>\n",
       "      <td>1</td>\n",
       "      <td>1</td>\n",
       "    </tr>\n",
       "    <tr>\n",
       "      <th>75%</th>\n",
       "      <td>752</td>\n",
       "      <td>210</td>\n",
       "      <td>449</td>\n",
       "      <td>6</td>\n",
       "      <td>30</td>\n",
       "      <td>3</td>\n",
       "      <td>2</td>\n",
       "    </tr>\n",
       "    <tr>\n",
       "      <th>max</th>\n",
       "      <td>1269359015</td>\n",
       "      <td>948477220</td>\n",
       "      <td>320881795</td>\n",
       "      <td>1036116</td>\n",
       "      <td>10824</td>\n",
       "      <td>747520</td>\n",
       "      <td>327208</td>\n",
       "    </tr>\n",
       "  </tbody>\n",
       "</table>\n",
       "</div>"
      ],
      "text/plain": [
       "           bytes  bytes_sent  bytes_received  packets  elapsed_time_sec  \\\n",
       "count      65532       65532           65532    65532             65532   \n",
       "mean       97124       22386           74738      103                66   \n",
       "std      5618439     3828139         2463208     5133               302   \n",
       "min           60          60               0        1                 0   \n",
       "25%           66          66               0        1                 0   \n",
       "50%          168          90              79        2                15   \n",
       "75%          752         210             449        6                30   \n",
       "max   1269359015   948477220       320881795  1036116             10824   \n",
       "\n",
       "       packets_sent  packets_received  \n",
       "count         65532             65532  \n",
       "mean             41                61  \n",
       "std            3219              2223  \n",
       "min               1                 0  \n",
       "25%               1                 0  \n",
       "50%               1                 1  \n",
       "75%               3                 2  \n",
       "max          747520            327208  "
      ]
     },
     "execution_count": 19,
     "metadata": {},
     "output_type": "execute_result"
    }
   ],
   "source": [
    "df.info()\n",
    "df.describe()"
   ]
  },
  {
   "attachments": {},
   "cell_type": "markdown",
   "id": "3aaeeaa7",
   "metadata": {},
   "source": [
    "# MODELS PREP"
   ]
  },
  {
   "cell_type": "code",
   "execution_count": 20,
   "id": "fe244990",
   "metadata": {},
   "outputs": [],
   "source": [
    "X = df.loc[:,df.columns !='action']\n",
    "y = df['action']\n",
    "\n",
    "X_train, X_test, y_train, y_test = train_test_split(X, y, test_size=0.2,random_state=42)"
   ]
  },
  {
   "attachments": {},
   "cell_type": "markdown",
   "id": "5e04d7cb",
   "metadata": {},
   "source": [
    "# SVM"
   ]
  },
  {
   "cell_type": "code",
   "execution_count": 21,
   "id": "d5011092",
   "metadata": {},
   "outputs": [
    {
     "name": "stdout",
     "output_type": "stream",
     "text": [
      "Best parameters:  {'classifier__C': 403898, 'classifier__gamma': 'scale'}\n",
      "Best score:  0.9982641869337149\n"
     ]
    }
   ],
   "source": [
    "from sklearn.pipeline import Pipeline\n",
    "from sklearn.preprocessing import StandardScaler, OneHotEncoder\n",
    "from sklearn.svm import SVC\n",
    "from sklearn.model_selection import GridSearchCV\n",
    "from sklearn.compose import ColumnTransformer\n",
    "import pandas as pd\n",
    "\n",
    "numerical_cols = ['bytes', 'bytes_sent', 'bytes_received', 'packets', 'elapsed_time_sec', 'packets_sent', 'packets_received']\n",
    "categorical_cols = ['source_port','destination_port','nat_source_port','nat_destination_port']\n",
    "\n",
    "\n",
    "numeric_transformer = Pipeline(steps=[\n",
    "    ('scaler', StandardScaler())])\n",
    "\n",
    "categorical_transformer = Pipeline(steps=[\n",
    "    ('onehot', OneHotEncoder(handle_unknown='ignore'))])\n",
    "\n",
    "preprocessor = ColumnTransformer(\n",
    "    transformers=[\n",
    "        ('num', numeric_transformer, numerical_cols),\n",
    "        ('cat', categorical_transformer, categorical_cols)\n",
    "    ])\n",
    "\n",
    "pipeline = Pipeline(steps=[('preprocessor', preprocessor),\n",
    "                           ('classifier', SVC(\n",
    "    random_state=42\n",
    "    ))])\n",
    "\n",
    "param_grid = {\n",
    "    'classifier__C': [1 + x for x in range(403895, 403900)],\n",
    "    'classifier__gamma': ['scale', 'auto']\n",
    "}\n",
    "\n",
    "grid_search = GridSearchCV(pipeline, param_grid=param_grid, cv=3)\n",
    "\n",
    "grid_search.fit(X_train, y_train)\n",
    "\n",
    "print(\"Best parameters: \", grid_search.best_params_)\n",
    "print(\"Best score: \", grid_search.best_score_)\n"
   ]
  },
  {
   "attachments": {},
   "cell_type": "markdown",
   "id": "2dd23594",
   "metadata": {},
   "source": [
    "### Classification Repot"
   ]
  },
  {
   "cell_type": "code",
   "execution_count": 22,
   "id": "8160c0f6",
   "metadata": {},
   "outputs": [
    {
     "name": "stdout",
     "output_type": "stream",
     "text": [
      "              precision    recall  f1-score   support\n",
      "\n",
      "       Allow       1.00      1.00      1.00      2994\n",
      "        Deny       1.00      1.00      1.00      7545\n",
      "        Drop       1.00      1.00      1.00      2562\n",
      "  Reset Both       1.00      1.00      1.00         6\n",
      "\n",
      "    accuracy                           1.00     13107\n",
      "   macro avg       1.00      1.00      1.00     13107\n",
      "weighted avg       1.00      1.00      1.00     13107\n",
      "\n"
     ]
    }
   ],
   "source": [
    "from sklearn.metrics import classification_report\n",
    "\n",
    "preds = grid_search.predict(X_test)\n",
    "print(classification_report(y_test, preds, target_names=['Allow', 'Deny', 'Drop', 'Reset Both']))"
   ]
  },
  {
   "cell_type": "code",
   "execution_count": 23,
   "id": "8487b6c1",
   "metadata": {},
   "outputs": [
    {
     "data": {
      "image/png": "[encoded data removed]",
      "text/plain": [
       "<Figure size 640x480 with 2 Axes>"
      ]
     },
     "metadata": {},
     "output_type": "display_data"
    }
   ],
   "source": [
    "from sklearn.metrics import ConfusionMatrixDisplay\n",
    "\n",
    "# Confusion matrix test\n",
    "confusion_matrix(y_test, preds)\n",
    "disp = ConfusionMatrixDisplay.from_estimator(grid_search, X_test, y_test)"
   ]
  },
  {
   "attachments": {},
   "cell_type": "markdown",
   "id": "3832fa8a",
   "metadata": {},
   "source": [
    "# SGD"
   ]
  },
  {
   "cell_type": "code",
   "execution_count": 25,
   "id": "456cf987",
   "metadata": {},
   "outputs": [
    {
     "name": "stdout",
     "output_type": "stream",
     "text": [
      "Best parameters:  {'classifier__l1_ratio': 0.3, 'classifier__penalty': 'elasticnet'}\n",
      "Best score:  0.9955746304244159\n"
     ]
    }
   ],
   "source": [
    "from sklearn.linear_model import SGDClassifier\n",
    "\n",
    "pipeline = Pipeline(steps=[('preprocessor', preprocessor),\n",
    "                           ('classifier', SGDClassifier(\n",
    "    early_stopping=True, \n",
    "    loss='squared_hinge',\n",
    "    max_iter=999999,\n",
    "    n_jobs=-1,\n",
    "    random_state=42\n",
    "    ))])\n",
    "\n",
    "param_grid = {\n",
    "    'classifier__penalty': ['l2', 'l1', 'elasticnet'],\n",
    "    'classifier__l1_ratio': [0.0, 0.1, 0.2, 0.3, 0.4, \n",
    "                             0.5, 0.6, 0.7, 0.8, 0.9, \n",
    "                             1.0]\n",
    "}\n",
    "\n",
    "grid_search = GridSearchCV(pipeline, param_grid=param_grid, cv=3)\n",
    "\n",
    "grid_search.fit(X_train, y_train)\n",
    "\n",
    "print(\"Best parameters: \", grid_search.best_params_)\n",
    "print(\"Best score: \", grid_search.best_score_)"
   ]
  },
  {
   "cell_type": "code",
   "execution_count": 26,
   "id": "cfb511bb",
   "metadata": {},
   "outputs": [
    {
     "name": "stdout",
     "output_type": "stream",
     "text": [
      "              precision    recall  f1-score   support\n",
      "\n",
      "       Allow       1.00      0.98      0.99      2994\n",
      "        Deny       0.99      1.00      1.00      7545\n",
      "        Drop       1.00      1.00      1.00      2562\n",
      "  Reset Both       0.33      0.33      0.33         6\n",
      "\n",
      "    accuracy                           0.99     13107\n",
      "   macro avg       0.83      0.83      0.83     13107\n",
      "weighted avg       0.99      0.99      0.99     13107\n",
      "\n"
     ]
    }
   ],
   "source": [
    "from sklearn.metrics import classification_report\n",
    "\n",
    "preds = grid_search.predict(X_test)\n",
    "print(classification_report(y_test, preds, target_names=['Allow', 'Deny', 'Drop', 'Reset Both']))"
   ]
  },
  {
   "cell_type": "code",
   "execution_count": 27,
   "id": "22fb0a11",
   "metadata": {},
   "outputs": [
    {
     "data": {
      "image/png": "[encoded data removed]",
      "text/plain": [
       "<Figure size 640x480 with 2 Axes>"
      ]
     },
     "metadata": {},
     "output_type": "display_data"
    }
   ],
   "source": [
    "from sklearn.metrics import ConfusionMatrixDisplay\n",
    "\n",
    "# Confusion matrix test\n",
    "confusion_matrix(y_test, preds)\n",
    "disp = ConfusionMatrixDisplay.from_estimator(grid_search, X_test, y_test)"
   ]
  }
 ],
 "metadata": {
  "kernelspec": {
   "display_name": "Python 3 (ipykernel)",
   "language": "python",
   "name": "python3"
  },
  "language_info": {
   "codemirror_mode": {
    "name": "ipython",
    "version": 3
   },
   "file_extension": ".py",
   "mimetype": "text/x-python",
   "name": "python",
   "nbconvert_exporter": "python",
   "pygments_lexer": "ipython3",
   "version": "3.10.7"
  }
 },
 "nbformat": 4,
 "nbformat_minor": 5
}
